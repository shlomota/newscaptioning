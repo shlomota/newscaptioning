{
 "cells": [
  {
   "cell_type": "code",
   "execution_count": null,
   "metadata": {
    "collapsed": true
   },
   "outputs": [],
   "source": [
    "from tell.commands.train import train_model_from_file\n",
    "import shutil\n",
    "import os\n",
    "\n",
    "base_path = \"/a/home/cc/students/cs/shlomotannor/nlp_course/newscaptioning/\"\n",
    "parameter_filename = \"expt/nytimes/BM/config.yaml\"\n",
    "serialization_dir = base_path + \"expt/nytimes/BM/serialization\"\n",
    "\n",
    "\n",
    "print(os.listdir(serialization_dir))"
   ]
  }
 ],
 "metadata": {
  "kernelspec": {
   "display_name": "Python 3",
   "language": "python",
   "name": "python3"
  },
  "language_info": {
   "codemirror_mode": {
    "name": "ipython",
    "version": 2
   },
   "file_extension": ".py",
   "mimetype": "text/x-python",
   "name": "python",
   "nbconvert_exporter": "python",
   "pygments_lexer": "ipython2",
   "version": "2.7.6"
  }
 },
 "nbformat": 4,
 "nbformat_minor": 0
}